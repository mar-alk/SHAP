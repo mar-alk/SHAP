{
 "cells": [
  {
   "cell_type": "code",
   "execution_count": null,
   "id": "127a510f",
   "metadata": {},
   "outputs": [],
   "source": [
    "# Import Libraries\n",
    "from rdkit import Chem\n",
    "from rdkit.Chem import AllChem\n",
    "import pandas as pd\n",
    "from rdkit.Chem import Draw\n",
    "import os  "
   ]
  },
  {
   "cell_type": "code",
   "execution_count": null,
   "id": "bbec4284",
   "metadata": {},
   "outputs": [],
   "source": [
    "a = 1239 # Bit number\n",
    "smiles = Data_Positive.iloc[a,0]\n",
    "\n",
    "bitinfo = {}\n",
    "mol = Chem.MolFromSmiles(smiles)\n",
    "fp = AllChem.GetMorganFingerprintAsBitVect(mol, 2, nBits=1024, bitInfo=bitinfo,useFeatures=True) #Retrive ecfp 4 bit information \n",
    "ecfp = fp\n",
    "\n",
    "def ecfp_to_dataframe(ecfp):\n",
    "    arr = np.zeros((1, 1024))\n",
    "    for i in ecfp.GetOnBits():\n",
    "        arr[0, i] = 1\n",
    "    df = pd.DataFrame(arr, columns=[f\"Bit_{i}\" for i in range(1024)])\n",
    "    return df\n",
    "\n",
    "df = ecfp_to_dataframe(ecfp)\n",
    "print(df)\n",
    "\n",
    "\n",
    "ones = np.where(df.iloc[0,:] == 1)\n",
    "img = Draw.DrawMorganBit(mol, 4, bitinfo)"
   ]
  },
  {
   "cell_type": "code",
   "execution_count": null,
   "id": "84f2d796",
   "metadata": {},
   "outputs": [],
   "source": [
    "# You can save the image as follows\n",
    "img.save(f\"morgan_bit_331_{a}.png\")\n",
    "\n",
    "Draw.DrawMorganBit(mol, 4, bitinfo)"
   ]
  },
  {
   "cell_type": "code",
   "execution_count": null,
   "id": "cc21ee69",
   "metadata": {},
   "outputs": [],
   "source": [
    "bits = [122,331]\n",
    "for x in bits:\n",
    "    globals()[f'Bit_{x}'] = []\n",
    "    for i in range(0,2130): \n",
    "        smiles = Data_Positive.iloc[i,0]\n",
    "        bitinfo = {}\n",
    "        mol = Chem.MolFromSmiles(smiles)\n",
    "        fp = AllChem.GetMorganFingerprintAsBitVect(mol, 3, nBits=1024, bitInfo=bitinfo,useFeatures=True)  # Retrive ecfp 6 bit information \n",
    "    \n",
    "        ecfp = fp\n",
    "\n",
    "        def ecfp_to_dataframe(ecfp):\n",
    "            arr = np.zeros((1, 1024))\n",
    "            for i in ecfp.GetOnBits():\n",
    "                arr[0, i] = 1\n",
    "            df = pd.DataFrame(arr, columns=[f\"Bit_{i}\" for i in range(1024)])\n",
    "            return df\n",
    "\n",
    "        df = ecfp_to_dataframe(ecfp)\n",
    "\n",
    "        ones = np.where(df.iloc[0,:] == 1)\n",
    "        if bool(sum(ones[0] == x)):\n",
    "            globals()[f'Bit_{x}'].append(i)"
   ]
  },
  {
   "cell_type": "code",
   "execution_count": null,
   "id": "e1200238",
   "metadata": {},
   "outputs": [],
   "source": [
    "a = 122 # Bit Number\n",
    "directory = f'{a}'\n",
    "parent_dir = r\"img\"\n",
    "path = os.path.join(parent_dir, directory) \n",
    "os.mkdir(path)\n",
    "\n",
    "for i in Bit_122: \n",
    "    smiles = Data_Positive.iloc[i,0]\n",
    "    bitinfo = {}\n",
    "    mol = Chem.MolFromSmiles(smiles)\n",
    "    fp = AllChem.GetMorganFingerprintAsBitVect(mol, 3, nBits=1024, bitInfo=bitinfo,useFeatures=True)\n",
    "    ecfp = fp\n",
    "\n",
    "    def ecfp_to_dataframe(ecfp):\n",
    "        arr = np.zeros((1, 1024))\n",
    "        for i in ecfp.GetOnBits():\n",
    "            arr[0, i] = 1\n",
    "        df = pd.DataFrame(arr, columns=[f\"Bit_{i}\" for i in range(1024)])\n",
    "        return df\n",
    "\n",
    "    df = ecfp_to_dataframe(ecfp)\n",
    "    #print(df)\n",
    "    img = Draw.DrawMorganBit(mol, a, bitinfo)\n",
    "\n",
    "    # Save the image as follows\n",
    "    img.save(f\"{a}/morgan_bit_{a}_{i}.png\")\n",
    "\n",
    "    Draw.DrawMorganBit(mol, a, bitinfo)"
   ]
  }
 ],
 "metadata": {
  "kernelspec": {
   "display_name": "Python 3 (ipykernel)",
   "language": "python",
   "name": "python3"
  },
  "language_info": {
   "codemirror_mode": {
    "name": "ipython",
    "version": 3
   },
   "file_extension": ".py",
   "mimetype": "text/x-python",
   "name": "python",
   "nbconvert_exporter": "python",
   "pygments_lexer": "ipython3",
   "version": "3.7.16"
  }
 },
 "nbformat": 4,
 "nbformat_minor": 5
}
